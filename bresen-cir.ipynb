{
 "cells": [
  {
   "cell_type": "code",
   "execution_count": 1,
   "metadata": {},
   "outputs": [],
   "source": [
    "import matplotlib.pyplot as plt"
   ]
  },
  {
   "cell_type": "code",
   "execution_count": 21,
   "metadata": {},
   "outputs": [],
   "source": [
    "def bres(x1,y1,x2,y2):\n",
    "    x,y = x1,y1\n",
    "    dx = abs(x2 - x1)\n",
    "    dy = abs(y2 -y1)\n",
    "    gradient = dy/float(dx)\n",
    "\n",
    "    if gradient > 1:\n",
    "        dx, dy = dy, dx\n",
    "        x, y = y, x\n",
    "        x1, y1 = y1, x1\n",
    "        x2, y2 = y2, x2\n",
    "\n",
    "    p = 2*dy - dx\n",
    "    print(f\"x = {x}, y = {y}\")\n",
    "    # Initialize the plotting points\n",
    "    xcoordinates = [x]\n",
    "    ycoordinates = [y]\n",
    "\n",
    "    for k in range(2, dx + 2):\n",
    "        if p > 0:\n",
    "            y = y + 1 if y < y2 else y - 1\n",
    "            p = p + 2 * (dy - dx)\n",
    "        else:\n",
    "            p = p + 2 * dy\n",
    "\n",
    "        x = x + 1 if x < x2 else x - 1\n",
    "\n",
    "        print(f\"x = {x}, y = {y}\")\n",
    "        xcoordinates.append(x)\n",
    "        ycoordinates.append(y)\n",
    "    return (xcoordinates, ycoordinates)"
   ]
  },
  {
   "cell_type": "code",
   "execution_count": 15,
   "metadata": {},
   "outputs": [],
   "source": [
    "\n",
    "x1 = int(input(\"Enter the Starting point of x: \"))\n",
    "y1 = int(input(\"Enter the Starting point of y: \"))\n",
    "x2 = int(input(\"Enter the end point of x: \"))\n",
    "y2 = int(input(\"Enter the end point of y: \"))\n",
    "\n"
   ]
  },
  {
   "cell_type": "code",
   "execution_count": 91,
   "metadata": {},
   "outputs": [
    {
     "name": "stdout",
     "output_type": "stream",
     "text": [
      "x = 56, y = 10\n",
      "x = 55, y = 10\n",
      "x = 54, y = 10\n",
      "x = 53, y = 10\n",
      "x = 52, y = 10\n",
      "x = 51, y = 10\n",
      "x = 50, y = 10\n",
      "x = 49, y = 10\n",
      "x = 48, y = 10\n",
      "x = 47, y = 10\n",
      "x = 46, y = 10\n",
      "x = 45, y = 10\n",
      "x = 44, y = 10\n",
      "x = 43, y = 10\n",
      "x = 42, y = 10\n",
      "x = 41, y = 10\n",
      "x = 40, y = 10\n",
      "x = 39, y = 10\n",
      "x = 38, y = 10\n",
      "x = 37, y = 10\n",
      "x = 36, y = 10\n",
      "x = 35, y = 10\n",
      "x = 34, y = 10\n",
      "x = 33, y = 10\n",
      "x = 32, y = 10\n",
      "x = 31, y = 9\n",
      "x = 30, y = 9\n",
      "x = 29, y = 9\n",
      "x = 28, y = 9\n",
      "x = 27, y = 9\n",
      "x = 26, y = 9\n",
      "x = 25, y = 9\n",
      "x = 24, y = 9\n",
      "x = 23, y = 9\n",
      "x = 22, y = 9\n",
      "x = 21, y = 9\n",
      "x = 20, y = 9\n",
      "x = 19, y = 9\n",
      "x = 18, y = 9\n",
      "x = 17, y = 9\n",
      "x = 16, y = 9\n",
      "x = 15, y = 9\n",
      "x = 14, y = 9\n",
      "x = 13, y = 9\n",
      "x = 12, y = 9\n",
      "x = 11, y = 9\n",
      "x = 10, y = 9\n",
      "x = 9, y = 9\n",
      "x = 8, y = 9\n",
      "[56, 55, 54, 53, 52, 51, 50, 49, 48, 47, 46, 45, 44, 43, 42, 41, 40, 39, 38, 37, 36, 35, 34, 33, 32, 31, 30, 29, 28, 27, 26, 25, 24, 23, 22, 21, 20, 19, 18, 17, 16, 15, 14, 13, 12, 11, 10, 9, 8]\n",
      "[10, 10, 10, 10, 10, 10, 10, 10, 10, 10, 10, 10, 10, 10, 10, 10, 10, 10, 10, 10, 10, 10, 10, 10, 10, 9, 9, 9, 9, 9, 9, 9, 9, 9, 9, 9, 9, 9, 9, 9, 9, 9, 9, 9, 9, 9, 9, 9, 9]\n"
     ]
    },
    {
     "data": {
      "image/png": "[encoded data removed]",
      "text/plain": [
       "<Figure size 640x480 with 1 Axes>"
      ]
     },
     "metadata": {},
     "output_type": "display_data"
    }
   ],
   "source": [
    "(x,y)=bres(10, 56, 9, 8)\n",
    "print(x)\n",
    "print(y)\n",
    "\n",
    "plt.title(\"Bresenham Algorithm\")\n",
    "plt.xlabel(\"X Axis\")\n",
    "plt.ylabel(\"Y Axis\")\n",
    "plt.xlim(0, 100)\n",
    "plt.ylim(0, 100)\n",
    "plt.gca().set_aspect('equal', adjustable='box')\n",
    "\n",
    "plt.plot(x, y, color=\"red\", marker=\".\", linestyle=\"solid\", linewidth=0, markersize=4, zorder=1)\n",
    "# grid with minor ticks 1 apart\n",
    "\n",
    "plt.grid(which='minor', axis='both', linestyle='-', color='green', zorder=0)\n",
    "\n",
    "plt.show()\n"
   ]
  },
  {
   "cell_type": "code",
   "execution_count": 84,
   "metadata": {},
   "outputs": [],
   "source": [
    "# midpoint circle algorithm\n",
    "\n",
    "    \n",
    "def circle_midpoint(xc, yc, r):\n",
    "    x = 0\n",
    "    y = r\n",
    "    p = 1 - r\n",
    "\n",
    "    # Initialize the plotting points\n",
    "    xcoordinates = [x+xc]\n",
    "    ycoordinates = [y+yc]\n",
    "\n",
    "    while x < y:\n",
    "        x = x + 1\n",
    "        if p < 0:\n",
    "            p = p + 2 * x + 1\n",
    "        else:\n",
    "            y = y - 1\n",
    "            p = p + 2 * (x - y) + 1\n",
    "\n",
    "        print(f\"x = {x}, y = {y}\")\n",
    "        \n",
    "        for i in range(8):\n",
    "            if i == 0:\n",
    "                xcoordinates.append(x+xc)\n",
    "                ycoordinates.append(y+yc)\n",
    "            elif i == 1:\n",
    "                xcoordinates.append(y+xc)\n",
    "                ycoordinates.append(x+yc)\n",
    "            elif i == 2:\n",
    "                xcoordinates.append(y+xc)\n",
    "                ycoordinates.append(-x+yc)\n",
    "            elif i == 3:\n",
    "                xcoordinates.append(x+xc)\n",
    "                ycoordinates.append(-y+yc)\n",
    "            elif i == 4:\n",
    "                xcoordinates.append(-x+xc)\n",
    "                ycoordinates.append(-y+yc)\n",
    "            elif i == 5:\n",
    "                xcoordinates.append(-y+xc)\n",
    "                ycoordinates.append(-x+yc)\n",
    "            elif i == 6:\n",
    "                xcoordinates.append(-y+xc)\n",
    "                ycoordinates.append(x+yc)\n",
    "            elif i == 7:\n",
    "                xcoordinates.append(-x+xc)\n",
    "                ycoordinates.append(y+yc)\n",
    "            \n",
    "            \n",
    "                \n",
    "\n",
    "    return (xcoordinates, ycoordinates)"
   ]
  },
  {
   "cell_type": "code",
   "execution_count": 85,
   "metadata": {},
   "outputs": [
    {
     "name": "stdout",
     "output_type": "stream",
     "text": [
      "x = 1, y = 9\n",
      "x = 2, y = 9\n",
      "x = 3, y = 8\n",
      "x = 4, y = 8\n",
      "x = 5, y = 7\n",
      "x = 6, y = 7\n",
      "x = 7, y = 6\n",
      "[-10, -9, -1, -1, -9, -11, -19, -19, -11, -8, -1, -1, -8, -12, -19, -19, -12, -7, -2, -2, -7, -13, -18, -18, -13, -6, -2, -2, -6, -14, -18, -18, -14, -5, -3, -3, -5, -15, -17, -17, -15, -4, -3, -3, -4, -16, -17, -17, -16, -3, -4, -4, -3, -17, -16, -16, -17]\n",
      "[29, 29, 21, 19, 11, 11, 19, 21, 29, 29, 22, 18, 11, 11, 18, 22, 29, 28, 23, 17, 12, 12, 17, 23, 28, 28, 24, 16, 12, 12, 16, 24, 28, 27, 25, 15, 13, 13, 15, 25, 27, 27, 26, 14, 13, 13, 14, 26, 27, 26, 27, 13, 14, 14, 13, 27, 26]\n"
     ]
    },
    {
     "data": {
      "image/png": "[encoded data removed]",
      "text/plain": [
       "<Figure size 640x480 with 1 Axes>"
      ]
     },
     "metadata": {},
     "output_type": "display_data"
    }
   ],
   "source": [
    "\n",
    "(x,y)=circle_midpoint(-10, 20, 9)\n",
    "print(x)\n",
    "print(y)\n",
    "\n",
    "plt.title(\"Midpoint Circle Algorithm\")\n",
    "plt.xlabel(\"X Axis\")\n",
    "plt.ylabel(\"Y Axis\")\n",
    "plt.xlim(-20, 50)\n",
    "plt.ylim(-20, 50)\n",
    "plt.gca().set_aspect('equal', adjustable='box')\n",
    "\n",
    "plt.plot(x, y, color=\"red\", marker=\".\", linestyle=\"solid\", linewidth=0, markersize=2, zorder=1)\n",
    "# plt.grid(linestyle=\"--\",alpha=0.5,zorder=1)\n",
    "# grid with minor ticks 1 apart\n",
    "\n",
    "# plt.grid(which='minor',  linewidth='2', color='black',zorder=0)\n",
    "# plt.grid(which='major', linestyle='-', linewidth='0.5', color='red',zorder=0)\n",
    "plt.show()"
   ]
  },
  {
   "cell_type": "code",
   "execution_count": null,
   "metadata": {},
   "outputs": [],
   "source": []
  }
 ],
 "metadata": {
  "kernelspec": {
   "display_name": "base",
   "language": "python",
   "name": "python3"
  },
  "language_info": {
   "codemirror_mode": {
    "name": "ipython",
    "version": 3
   },
   "file_extension": ".py",
   "mimetype": "text/x-python",
   "name": "python",
   "nbconvert_exporter": "python",
   "pygments_lexer": "ipython3",
   "version": "3.11.4"
  }
 },
 "nbformat": 4,
 "nbformat_minor": 2
}
